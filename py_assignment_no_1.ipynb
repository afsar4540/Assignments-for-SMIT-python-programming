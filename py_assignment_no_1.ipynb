{
 "cells": [
  {
   "cell_type": "code",
   "execution_count": 1,
   "metadata": {},
   "outputs": [
    {
     "name": "stdout",
     "output_type": "stream",
     "text": [
      "Twinkle, twinkle, little star,\n",
      "  How I wonder what you are!\n",
      "    Up above the world so high,\n",
      "    Like a diamond in the sky.\n",
      "Twinkle, twinkle, little star,\n",
      "  How I wonder what you are!\n"
     ]
    }
   ],
   "source": [
    "# task no 1\n",
    "\n",
    "twink_temp = \"Twinkle, twinkle, little star,\\n\"\\\n",
    "\"  How I wonder what you are!\\n\"\\\n",
    "\"    Up above the world so high,\\n\"\\\n",
    "\"    Like a diamond in the sky.\\n\"\\\n",
    "\"Twinkle, twinkle, little star,\\n\"\\\n",
    "\"  How I wonder what you are!\"\n",
    "print(twink_temp)"
   ]
  },
  {
   "cell_type": "code",
   "execution_count": 2,
   "metadata": {},
   "outputs": [
    {
     "name": "stdout",
     "output_type": "stream",
     "text": [
      "Python version\n",
      "3.7.1 (default, Dec 10 2018, 22:54:23) [MSC v.1915 64 bit (AMD64)]\n",
      "Version info.\n",
      "sys.version_info(major=3, minor=7, micro=1, releaselevel='final', serial=0)\n"
     ]
    }
   ],
   "source": [
    "# task no 2\n",
    "\n",
    "import sys\n",
    "print(\"Python version\")\n",
    "print (sys.version)\n",
    "print(\"Version info.\")\n",
    "print (sys.version_info)"
   ]
  },
  {
   "cell_type": "code",
   "execution_count": 9,
   "metadata": {},
   "outputs": [
    {
     "name": "stdout",
     "output_type": "stream",
     "text": [
      "Current Date And time is = 2019-11-08 19:24:14.281055\n"
     ]
    }
   ],
   "source": [
    "# task no 3\n",
    "\n",
    "from datetime import datetime\n",
    "# datetime object containing current date and time\n",
    "Current_dt = datetime.now()\n",
    " \n",
    "print(\"Current Date And time is =\", Current_dt)\n"
   ]
  },
  {
   "cell_type": "code",
   "execution_count": 10,
   "metadata": {},
   "outputs": [
    {
     "name": "stdout",
     "output_type": "stream",
     "text": [
      "Enter radius of circule = 3\n",
      "Area of circule is: 28.278\n"
     ]
    }
   ],
   "source": [
    "# task no 4\n",
    "# as A = pie X r^2 so\n",
    "\n",
    "r = int(input(\"Enter radius of circule = \"))\n",
    "y = 3.142\n",
    "A = 3.142 * (r ** 2)\n",
    "print(\"Area of circule is:\", A)"
   ]
  },
  {
   "cell_type": "code",
   "execution_count": 11,
   "metadata": {},
   "outputs": [
    {
     "name": "stdout",
     "output_type": "stream",
     "text": [
      "Enter First Name: Ali\n",
      "Enter Last Name: Afsar\n",
      "Afsar Ali\n"
     ]
    }
   ],
   "source": [
    "# task no 5\n",
    "\n",
    "x = input(\"Enter First Name: \")\n",
    "y = input(\"Enter Last Name: \")\n",
    "z = y + \" \" + x\n",
    "print (z)"
   ]
  },
  {
   "cell_type": "code",
   "execution_count": 12,
   "metadata": {},
   "outputs": [
    {
     "name": "stdout",
     "output_type": "stream",
     "text": [
      "Enter first no = 12\n",
      "Enter second no = 18\n",
      "Total is: 30\n"
     ]
    }
   ],
   "source": [
    "# # task no 6 (input two nums and add them) \n",
    "\n",
    "x = int(input(\"Enter first no = \"))\n",
    "y = int(input(\"Enter second no = \"))\n",
    "add = x + y\n",
    "print(\"Total is:\",add)"
   ]
  },
  {
   "cell_type": "code",
   "execution_count": null,
   "metadata": {},
   "outputs": [],
   "source": []
  }
 ],
 "metadata": {
  "kernelspec": {
   "display_name": "Python 3",
   "language": "python",
   "name": "python3"
  },
  "language_info": {
   "codemirror_mode": {
    "name": "ipython",
    "version": 3
   },
   "file_extension": ".py",
   "mimetype": "text/x-python",
   "name": "python",
   "nbconvert_exporter": "python",
   "pygments_lexer": "ipython3",
   "version": "3.7.1"
  }
 },
 "nbformat": 4,
 "nbformat_minor": 2
}
