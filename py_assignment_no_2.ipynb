{
 "cells": [
  {
   "cell_type": "code",
   "execution_count": 14,
   "metadata": {},
   "outputs": [
    {
     "name": "stdout",
     "output_type": "stream",
     "text": [
      "Enter Marks Obtained in sub_a (out of 100) : 82\n",
      "Enter Marks Obtained in sub_a (out of 100) : 72\n",
      "Enter Marks Obtained in sub_a (out of 100) : 62\n",
      "Enter Marks Obtained in sub_a (out of 100) : 49\n",
      "Enter Marks Obtained in sub_a (out of 100) : 61\n",
      "Your Grade is : B grade : 65.2\n"
     ]
    }
   ],
   "source": [
    "# Q no1 Mark sheet of 5 subjects\n",
    "# Note: each sub max marks is 100\n",
    "\n",
    "sub_a = int(input(\"Enter Marks Obtained in sub_a (out of 100) : \"))\n",
    "sub_b = int(input(\"Enter Marks Obtained in sub_a (out of 100) : \"))\n",
    "sub_c = int(input(\"Enter Marks Obtained in sub_a (out of 100) : \"))\n",
    "sub_d = int(input(\"Enter Marks Obtained in sub_a (out of 100) : \"))\n",
    "sub_e = int(input(\"Enter Marks Obtained in sub_a (out of 100) : \"))\n",
    "obt_marks = (sub_a + sub_b + sub_c + sub_d + sub_e)\n",
    "grd = (obt_marks * 100) / 500\n",
    "if grd >= 80 :\n",
    "    print(\"Your Grade is : A1 grade : \" , grd)\n",
    "elif grd >= 70 and grd < 80 :\n",
    "    print(\"Your Grade is : A grade :\"  , grd)\n",
    "elif grd >= 60 and grd < 70 :\n",
    "    print(\"Your Grade is : B grade :\"  , grd)\n",
    "elif grd >= 50 and grd < 60 :\n",
    "    print(\"Your Grade is : C grade :\"  , grd)\n",
    "else:\n",
    "    print(\"Your Are Failed :\"  , grd)"
   ]
  },
  {
   "cell_type": "code",
   "execution_count": 4,
   "metadata": {},
   "outputs": [
    {
     "name": "stdout",
     "output_type": "stream",
     "text": [
      "Enter No: 5\n",
      "5  is odd number,\n"
     ]
    }
   ],
   "source": [
    "# Q no2 To Identify no is even or odd\n",
    "\n",
    "num = int(input(\"Enter No: \"))\n",
    "if (num % 2) == 0:\n",
    "    print (num ,\" is even number,\")\n",
    "else :\n",
    "    print(num ,\" is odd number,\")"
   ]
  },
  {
   "cell_type": "code",
   "execution_count": 12,
   "metadata": {},
   "outputs": [
    {
     "name": "stdout",
     "output_type": "stream",
     "text": [
      "length of list:  6\n"
     ]
    }
   ],
   "source": [
    "# Q no3 To find length of elements of list\n",
    "\n",
    "a_list = [\"a\" , \"b\" , \"c\", \"d\" , \"e\" , \"f\"]\n",
    "print(\"length of list: \" , len(a_list))"
   ]
  },
  {
   "cell_type": "code",
   "execution_count": 8,
   "metadata": {},
   "outputs": [
    {
     "name": "stdout",
     "output_type": "stream",
     "text": [
      "Total of list nums: 60\n"
     ]
    }
   ],
   "source": [
    "# Q no4 To sum of all numbers in list\n",
    "\n",
    "nums = [10, 20, 30]\n",
    "print(\"Total of list nums:\" , sum(nums))"
   ]
  },
  {
   "cell_type": "code",
   "execution_count": 13,
   "metadata": {},
   "outputs": [
    {
     "name": "stdout",
     "output_type": "stream",
     "text": [
      "Largest no in list is:  50\n"
     ]
    }
   ],
   "source": [
    "# Q no5 largest no in list\n",
    "\n",
    "lst = [10, 20, 30, 50, 20, 10]\n",
    "print(\"Largest no in list is: \" , max(lst))"
   ]
  },
  {
   "cell_type": "code",
   "execution_count": 16,
   "metadata": {},
   "outputs": [
    {
     "name": "stdout",
     "output_type": "stream",
     "text": [
      "less then element 5 in list a:  [1, 1, 2, 3]\n"
     ]
    }
   ],
   "source": [
    "# Q no6 slicing\n",
    "a = [1, 1, 2, 3, 5, 8, 13, 21, 34, 55, 89]\n",
    "print(\"less then element 5 in list a: \" , a[ :4])"
   ]
  },
  {
   "cell_type": "code",
   "execution_count": 15,
   "metadata": {},
   "outputs": [
    {
     "name": "stdout",
     "output_type": "stream",
     "text": [
      "Thanks to Sir Muhammad Ali Mughal & sylani Team\n"
     ]
    }
   ],
   "source": [
    "# end of Assignment no 2\n",
    "\n",
    "print(\"Thanks to Sir Muhammad Ali Mughal & sylani Team\")"
   ]
  },
  {
   "cell_type": "code",
   "execution_count": null,
   "metadata": {},
   "outputs": [],
   "source": []
  }
 ],
 "metadata": {
  "kernelspec": {
   "display_name": "Python 3",
   "language": "python",
   "name": "python3"
  },
  "language_info": {
   "codemirror_mode": {
    "name": "ipython",
    "version": 3
   },
   "file_extension": ".py",
   "mimetype": "text/x-python",
   "name": "python",
   "nbconvert_exporter": "python",
   "pygments_lexer": "ipython3",
   "version": "3.7.1"
  }
 },
 "nbformat": 4,
 "nbformat_minor": 2
}
